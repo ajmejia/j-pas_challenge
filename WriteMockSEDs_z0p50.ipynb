{
 "cells": [
  {
   "cell_type": "code",
   "execution_count": 1,
   "metadata": {
    "collapsed": false
   },
   "outputs": [
    {
     "name": "stdout",
     "output_type": "stream",
     "text": [
      "Populating the interactive namespace from numpy and matplotlib\n"
     ]
    }
   ],
   "source": [
    "%pylab inline\n",
    "\n",
    "import os, styles\n",
    "from astropy.cosmology import FlatLambdaCDM\n",
    "from astropy.constants import L_sun"
   ]
  },
  {
   "cell_type": "code",
   "execution_count": 2,
   "metadata": {
    "collapsed": true
   },
   "outputs": [],
   "source": [
    "def mean_wl(passband):\n",
    "    return trapz(passband[:,0] * passband[:,1], passband[:,0])/trapz(passband[:,1], passband[:,0])"
   ]
  },
  {
   "cell_type": "code",
   "execution_count": 3,
   "metadata": {
    "collapsed": false
   },
   "outputs": [
    {
     "ename": "ValueError",
     "evalue": "could not convert string to float: ",
     "output_type": "error",
     "traceback": [
      "\u001b[0;31m---------------------------------------------------------------------------\u001b[0m",
      "\u001b[0;31mValueError\u001b[0m                                Traceback (most recent call last)",
      "\u001b[0;32m<ipython-input-3-9cacc44ed29b>\u001b[0m in \u001b[0;36m<module>\u001b[0;34m()\u001b[0m\n\u001b[1;32m      1\u001b[0m \u001b[0mfname\u001b[0m \u001b[0;34m=\u001b[0m \u001b[0;34m\"data/total_file_z050.dat\"\u001b[0m\u001b[0;34m\u001b[0m\u001b[0m\n\u001b[0;32m----> 2\u001b[0;31m \u001b[0mmock_seds\u001b[0m \u001b[0;34m=\u001b[0m \u001b[0mloadtxt\u001b[0m\u001b[0;34m(\u001b[0m\u001b[0mfname\u001b[0m\u001b[0;34m)\u001b[0m\u001b[0;34m\u001b[0m\u001b[0m\n\u001b[0m\u001b[1;32m      3\u001b[0m \u001b[0mmock_reds\u001b[0m \u001b[0;34m=\u001b[0m \u001b[0meval\u001b[0m\u001b[0;34m(\u001b[0m\u001b[0mfname\u001b[0m\u001b[0;34m.\u001b[0m\u001b[0msplit\u001b[0m\u001b[0;34m(\u001b[0m\u001b[0;34m\".\"\u001b[0m\u001b[0;34m)\u001b[0m\u001b[0;34m[\u001b[0m\u001b[0;36m0\u001b[0m\u001b[0;34m]\u001b[0m\u001b[0;34m.\u001b[0m\u001b[0msplit\u001b[0m\u001b[0;34m(\u001b[0m\u001b[0;34m\"_\"\u001b[0m\u001b[0;34m)\u001b[0m\u001b[0;34m[\u001b[0m\u001b[0;34m-\u001b[0m\u001b[0;36m1\u001b[0m\u001b[0;34m]\u001b[0m\u001b[0;34m.\u001b[0m\u001b[0mlstrip\u001b[0m\u001b[0;34m(\u001b[0m\u001b[0;34m\"z0\"\u001b[0m\u001b[0;34m)\u001b[0m\u001b[0;34m)\u001b[0m\u001b[0;34m*\u001b[0m\u001b[0;36m0.01\u001b[0m\u001b[0;34m\u001b[0m\u001b[0m\n\u001b[1;32m      4\u001b[0m \u001b[0;34m\u001b[0m\u001b[0m\n\u001b[1;32m      5\u001b[0m \u001b[0mjpas_filters\u001b[0m \u001b[0;34m=\u001b[0m \u001b[0;34m[\u001b[0m\u001b[0mfile\u001b[0m \u001b[0;32mfor\u001b[0m \u001b[0mroot\u001b[0m\u001b[0;34m,\u001b[0m \u001b[0msubs\u001b[0m\u001b[0;34m,\u001b[0m \u001b[0mfiles\u001b[0m \u001b[0;32min\u001b[0m \u001b[0mos\u001b[0m\u001b[0;34m.\u001b[0m\u001b[0mwalk\u001b[0m\u001b[0;34m(\u001b[0m\u001b[0;34m\"jpas-filters\"\u001b[0m\u001b[0;34m)\u001b[0m \u001b[0;32mfor\u001b[0m \u001b[0mfile\u001b[0m \u001b[0;32min\u001b[0m \u001b[0mfiles\u001b[0m \u001b[0;32mif\u001b[0m \u001b[0mfile\u001b[0m\u001b[0;34m.\u001b[0m\u001b[0mendswith\u001b[0m\u001b[0;34m(\u001b[0m\u001b[0;34m\".res\"\u001b[0m\u001b[0;34m)\u001b[0m\u001b[0;34m]\u001b[0m\u001b[0;34m\u001b[0m\u001b[0m\n",
      "\u001b[0;32m/home/mejia/Programs/miniconda2/lib/python2.7/site-packages/numpy/lib/npyio.pyc\u001b[0m in \u001b[0;36mloadtxt\u001b[0;34m(fname, dtype, comments, delimiter, converters, skiprows, usecols, unpack, ndmin)\u001b[0m\n\u001b[1;32m    928\u001b[0m \u001b[0;34m\u001b[0m\u001b[0m\n\u001b[1;32m    929\u001b[0m             \u001b[0;31m# Convert each value according to its column and store\u001b[0m\u001b[0;34m\u001b[0m\u001b[0;34m\u001b[0m\u001b[0m\n\u001b[0;32m--> 930\u001b[0;31m             \u001b[0mitems\u001b[0m \u001b[0;34m=\u001b[0m \u001b[0;34m[\u001b[0m\u001b[0mconv\u001b[0m\u001b[0;34m(\u001b[0m\u001b[0mval\u001b[0m\u001b[0;34m)\u001b[0m \u001b[0;32mfor\u001b[0m \u001b[0;34m(\u001b[0m\u001b[0mconv\u001b[0m\u001b[0;34m,\u001b[0m \u001b[0mval\u001b[0m\u001b[0;34m)\u001b[0m \u001b[0;32min\u001b[0m \u001b[0mzip\u001b[0m\u001b[0;34m(\u001b[0m\u001b[0mconverters\u001b[0m\u001b[0;34m,\u001b[0m \u001b[0mvals\u001b[0m\u001b[0;34m)\u001b[0m\u001b[0;34m]\u001b[0m\u001b[0;34m\u001b[0m\u001b[0m\n\u001b[0m\u001b[1;32m    931\u001b[0m             \u001b[0;31m# Then pack it according to the dtype's nesting\u001b[0m\u001b[0;34m\u001b[0m\u001b[0;34m\u001b[0m\u001b[0m\n\u001b[1;32m    932\u001b[0m             \u001b[0mitems\u001b[0m \u001b[0;34m=\u001b[0m \u001b[0mpack_items\u001b[0m\u001b[0;34m(\u001b[0m\u001b[0mitems\u001b[0m\u001b[0;34m,\u001b[0m \u001b[0mpacking\u001b[0m\u001b[0;34m)\u001b[0m\u001b[0;34m\u001b[0m\u001b[0m\n",
      "\u001b[0;32m/home/mejia/Programs/miniconda2/lib/python2.7/site-packages/numpy/lib/npyio.pyc\u001b[0m in \u001b[0;36mfloatconv\u001b[0;34m(x)\u001b[0m\n\u001b[1;32m    657\u001b[0m         \u001b[0;32mif\u001b[0m \u001b[0;34mb'0x'\u001b[0m \u001b[0;32min\u001b[0m \u001b[0mx\u001b[0m\u001b[0;34m:\u001b[0m\u001b[0;34m\u001b[0m\u001b[0m\n\u001b[1;32m    658\u001b[0m             \u001b[0;32mreturn\u001b[0m \u001b[0mfloat\u001b[0m\u001b[0;34m.\u001b[0m\u001b[0mfromhex\u001b[0m\u001b[0;34m(\u001b[0m\u001b[0masstr\u001b[0m\u001b[0;34m(\u001b[0m\u001b[0mx\u001b[0m\u001b[0;34m)\u001b[0m\u001b[0;34m)\u001b[0m\u001b[0;34m\u001b[0m\u001b[0m\n\u001b[0;32m--> 659\u001b[0;31m         \u001b[0;32mreturn\u001b[0m \u001b[0mfloat\u001b[0m\u001b[0;34m(\u001b[0m\u001b[0mx\u001b[0m\u001b[0;34m)\u001b[0m\u001b[0;34m\u001b[0m\u001b[0m\n\u001b[0m\u001b[1;32m    660\u001b[0m \u001b[0;34m\u001b[0m\u001b[0m\n\u001b[1;32m    661\u001b[0m     \u001b[0mtyp\u001b[0m \u001b[0;34m=\u001b[0m \u001b[0mdtype\u001b[0m\u001b[0;34m.\u001b[0m\u001b[0mtype\u001b[0m\u001b[0;34m\u001b[0m\u001b[0m\n",
      "\u001b[0;31mValueError\u001b[0m: could not convert string to float: "
     ]
    }
   ],
   "source": [
    "fname = \"data/total_file_z050.dat\"\n",
    "mock_seds = loadtxt(fname)\n",
    "mock_reds = eval(fname.split(\".\")[0].split(\"_\")[-1].lstrip(\"z0\"))*0.01\n",
    "\n",
    "jpas_filters = [file for root, subs, files in os.walk(\"jpas-filters\") for file in files if file.endswith(\".res\")]\n",
    "jplus_filters = [file for root, subs, files in os.walk(\"jplus-filters\") for file in files if file.endswith(\".res\")]"
   ]
  },
  {
   "cell_type": "code",
   "execution_count": null,
   "metadata": {
    "collapsed": true
   },
   "outputs": [],
   "source": [
    "#COMPUTE THE MEAN WAVELENGTH\n",
    "jpas_wl = array([mean_wl(loadtxt(\"jpas-filters/{}\".format(fname))) for fname in jpas_filters])\n",
    "jplus_wl = array([mean_wl(loadtxt(\"jplus-filters/{}\".format(fname))) for fname in jplus_filters])\n",
    "#SORT BY WAVELENGTH\n",
    "jpas_isort = argsort(jpas_wl)\n",
    "jplus_isort = argsort(jplus_wl)"
   ]
  },
  {
   "cell_type": "code",
   "execution_count": null,
   "metadata": {
    "collapsed": false
   },
   "outputs": [],
   "source": [
    "#MASK OUT UNUSED JPAS PASSBANDS\n",
    "jpas_filters = array(jpas_filters)[jpas_isort][:-1]\n",
    "jpas_wl = jpas_wl[jpas_isort][:-1]\n",
    "#MASK OUT UNUSED JPLUS PASSBANDS\n",
    "jplus_filters = array(jplus_filters)[jplus_isort][[1,2,3,4,5,7,8,9,11,13]]\n",
    "jplus_wl = jplus_wl[jplus_isort][[1,2,3,4,5,7,8,9,11,13]]"
   ]
  },
  {
   "cell_type": "code",
   "execution_count": null,
   "metadata": {
    "collapsed": false
   },
   "outputs": [],
   "source": [
    "#SPLIT SEDs DATA\n",
    "jpas_indexes = array(range(55), dtype=int)\n",
    "jplus_indexes = array([59,58,60,61,62,56,63,57,64,65], dtype=int)-1\n",
    "\n",
    "jpas_fl = mock_seds[0::2,jpas_indexes]\n",
    "jpas_sg = mock_seds[1::2,jpas_indexes]\n",
    "jplus_fl = mock_seds[0::2,jplus_indexes]\n",
    "jplus_sg = mock_seds[1::2,jplus_indexes]"
   ]
  },
  {
   "cell_type": "code",
   "execution_count": null,
   "metadata": {
    "collapsed": false,
    "scrolled": false
   },
   "outputs": [],
   "source": [
    "NGAL = jpas_fl.shape[0]\n",
    "NPLOTS = 10\n",
    "\n",
    "jpas_mask = ones(55, dtype=bool)\n",
    "#jpas_mask[[27,28,29,30]] = False\n",
    "jpas_mask = (jpas_fl>0.0)&(repeat([jpas_mask],jpas_fl.shape[0],axis=0))\n",
    "\n",
    "jplus_mask = ones(10, dtype=bool)\n",
    "#jplus_mask[[7,8]] = False\n",
    "jplus_mask = (jplus_fl>0.0)&(repeat([jplus_mask],jplus_fl.shape[0],axis=0))\n",
    "\n",
    "distances = FlatLambdaCDM(H0=70, Om0=0.3).luminosity_distance(mock_reds).cgs.value\n",
    "d_correction = 4*pi*distances*(distances/L_sun.cgs.value)\n",
    "\n",
    "fig, axs = subplots(NPLOTS, 1, sharex=True, figsize=(5, NPLOTS*3))\n",
    "for i in range(NPLOTS):\n",
    "    axs[i].plot(jpas_wl[jpas_mask[i]], jpas_fl[i][jpas_mask[i]], \"-o\", ms=4, mew=0, label=r\"\\bf J-PAS\")\n",
    "    axs[i].plot(jplus_wl[jplus_mask[i]], jplus_fl[i][jplus_mask[i]], \"o\", mfc=\"none\", ms=7, mew=1, label=r\"\\bf J-PLUS\")\n",
    "    \n",
    "    axs[i].axvline(6562.80*(mock_reds+1), ls=\"--\", color=\"k\")\n",
    "    axs[i].axvline(4101.76*(mock_reds+1), ls=\"--\", color=\"k\")\n",
    "    \n",
    "    axs[i].set_ylabel(r\"\\bf Flux (erg/s/cm${}^{2}$/\\AA)\")\n",
    "\n",
    "axs[0].legend(loc=0)\n",
    "axs[i].set_xlabel(r\"\\bf $\\lambda$ (\\AA)\")\n",
    "\n",
    "fig.tight_layout()\n",
    "#fig.savefig(\"SDSS_sample.png\", bbox_inches=\"tight\")"
   ]
  },
  {
   "cell_type": "code",
   "execution_count": null,
   "metadata": {
    "collapsed": false
   },
   "outputs": [],
   "source": [
    "write_sed_files = True\n",
    "if write_sed_files:\n",
    "#MASK EMISSION LINES\n",
    "    jpas_mask = ones(55, dtype=bool)\n",
    "    #jpas_mask[[27,28,29,30]] = False\n",
    "    jpas_mask = (jpas_fl>0.0)&(repeat([jpas_mask],jpas_fl.shape[0],axis=0))\n",
    "    jpas_fl[~jpas_mask] = 0.0\n",
    "    jpas_sg[~jpas_mask] = 0.0\n",
    "\n",
    "    jplus_mask = ones(10, dtype=bool)\n",
    "    #jplus_mask[[7,8]] = False\n",
    "    jplus_mask = (jplus_fl>0.0)&(repeat([jplus_mask],jplus_fl.shape[0],axis=0))\n",
    "    jplus_fl[~jplus_mask] = 0.0\n",
    "    jplus_sg[~jplus_mask] = 0.0\n",
    "#WRITE SEDs\n",
    "    fmt = \"%8.3f%12.4e%12.4e\"\n",
    "    hdr = \"%6s%12s%12s\"%tuple(\"weff flux error\".split())\n",
    "    for i in xrange(NGAL):\n",
    "        jpas_table = column_stack((jpas_wl, jpas_fl[i]*d_correction, jpas_sg[i]*d_correction))\n",
    "        jpas_file_sed = open(\"jpas-z{0}/jpas-z{0}_{1:04d}.txt\".format(\"{0:3.2f}\".format(mock_reds).replace(\".\", \"p\"), i+1), \"w\")\n",
    "        jpas_file_sed.write(\"# redshift = {0:4.2f}\\n\".format(mock_reds))\n",
    "        jpas_file_sed.write(\"#\\n\")\n",
    "        savetxt(jpas_file_sed, jpas_table, fmt=fmt, header=hdr)\n",
    "        jpas_file_sed.close()\n",
    "\n",
    "        jplus_table = column_stack((jplus_wl, jplus_fl[i]*d_correction, jplus_sg[i]*d_correction))\n",
    "        jplus_file_sed = open(\"jplus-z{0}/jplus-z{0}_{1:04d}.txt\".format(\"{0:3.2f}\".format(mock_reds).replace(\".\", \"p\"), i+1), \"w\")\n",
    "        jplus_file_sed.write(\"# redshift = {0:4.2f}\\n\".format(mock_reds))\n",
    "        jplus_file_sed.write(\"#\\n\")\n",
    "        savetxt(jplus_file_sed, jplus_table, fmt=fmt, header=hdr)\n",
    "        jplus_file_sed.close()"
   ]
  }
 ],
 "metadata": {
  "anaconda-cloud": {},
  "kernelspec": {
   "display_name": "Python [default]",
   "language": "python",
   "name": "python2"
  },
  "language_info": {
   "codemirror_mode": {
    "name": "ipython",
    "version": 2
   },
   "file_extension": ".py",
   "mimetype": "text/x-python",
   "name": "python",
   "nbconvert_exporter": "python",
   "pygments_lexer": "ipython2",
   "version": "2.7.13"
  }
 },
 "nbformat": 4,
 "nbformat_minor": 0
}
