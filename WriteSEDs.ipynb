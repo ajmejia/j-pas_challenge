{
 "cells": [
  {
   "cell_type": "code",
   "execution_count": 1,
   "metadata": {
    "collapsed": false
   },
   "outputs": [
    {
     "name": "stdout",
     "output_type": "stream",
     "text": [
      "Populating the interactive namespace from numpy and matplotlib\n"
     ]
    }
   ],
   "source": [
    "%pylab inline"
   ]
  },
  {
   "cell_type": "code",
   "execution_count": 2,
   "metadata": {
    "collapsed": true
   },
   "outputs": [],
   "source": [
    "import pyfits as pyf\n",
    "import os"
   ]
  },
  {
   "cell_type": "code",
   "execution_count": 3,
   "metadata": {
    "collapsed": false
   },
   "outputs": [],
   "source": [
    "def integrated_flux(SED, sigma, passband):\n",
    "    mask = (passband[0, 0] <= SED[:, 0])&(SED[:, 0] <= passband[-1, 0])\n",
    "    ipassband = interp(SED[mask, 0], passband[:, 0], passband[:, 1])\n",
    "    \n",
    "    weff = trapz(ipassband*SED[mask, 0], SED[mask, 0])/trapz(ipassband, SED[mask, 0])\n",
    "    if (SED[mask, 1]>0.0).sum()*100./mask.sum()<99.0: return weff, -1.0, -1.0\n",
    "    \n",
    "    iflux = trapz(SED[mask, 0]*SED[mask, 1]*ipassband, SED[mask, 0])/\\\n",
    "            trapz(SED[mask, 0]*ipassband, SED[mask, 0])\n",
    "\n",
    "    weights = SED[mask, 0]*ipassband/trapz(SED[mask, 0]*ipassband, SED[mask, 0])\n",
    "    isigm = sqrt(trapz((weights*sigma[mask])**2, SED[mask, 0]))\n",
    "    return weff, iflux, isigm"
   ]
  },
  {
   "cell_type": "code",
   "execution_count": 9,
   "metadata": {
    "collapsed": false
   },
   "outputs": [],
   "source": [
    "cdir = \"../../Programs/challenge/\"\n",
    "\n",
    "jpas_list = sorted([os.path.join(root, file) \\\n",
    "             for root, subs, files in os.walk(cdir+\"JPAS_filters/\") \\\n",
    "             for file in files if file.endswith(\".res\")])\n",
    "jplus_list = sorted([os.path.join(root, file) \\\n",
    "              for root, subs, files in os.walk(cdir+\"JPLUS_filters/\") \\\n",
    "              for file in files if file.endswith(\".res\")])\n",
    "\n",
    "jpas_filters = [loadtxt(fname) for fname in jpas_list]\n",
    "jplus_filters = [loadtxt(fname) for fname in jplus_list]"
   ]
  },
  {
   "cell_type": "code",
   "execution_count": 10,
   "metadata": {
    "collapsed": false
   },
   "outputs": [],
   "source": [
    "sed_list = [\"spectro{0}.fits\".format(i+1) for i in xrange(16)]\n",
    "err_list = [\"spectro{0}e.fits\".format(i+1) for i in xrange(16)]\n",
    "\n",
    "redshift = [0.580, 0.270, 0.325, 0.400, 0.405, 0.214, 0.520, 0.425, 0.480, 0.390, 0.250,\n",
    "            0.315, 0.350, 0.770, 0.450, 0.490]\n",
    "\n",
    "i = 0\n",
    "for z, sedfile, errfile in zip(redshift, sed_list, err_list):\n",
    "    s = pyf.open(sedfile)\n",
    "    e = pyf.open(errfile)\n",
    "    \n",
    "    wl = array([s[0].header[\"CRVAL1\"]+s[0].header[\"CDELT1\"]*(1+j) \\\n",
    "                for j in xrange(s[0].header[\"NAXIS1\"])])\n",
    "    fl = s[0].data[0]\n",
    "    sg = e[0].data[0]    \n",
    "    sed = column_stack((wl, fl))\n",
    "    \n",
    "    with open(\"jpas_sed{0:02d}.txt\".format(i+1), \"w\") as f:\n",
    "        f.write(\"# redshift = {0:5.3f}\\n\".format(z))\n",
    "        f.write(\"#\\n\")\n",
    "        f.write(\"# {0:>14s}{1:>13s}{2:>13s}\\n\".format(\"filter\", \"flux\", \"sigma\"))\n",
    "        for j, filt in enumerate(jpas_filters):\n",
    "            fname = jpas_list[j].rstrip(\".res\")\n",
    "            fname = fname[fname.rfind(\"/\")+1:]\n",
    "            jpas_wl, jpas_fl, jpas_sg = integrated_flux(sed, sg, filt)\n",
    "            f.write(\"  {0:>14s}{1:>13.4e}{2:>13.4e}\\n\".format(fname, jpas_fl, jpas_sg))\n",
    "\n",
    "    with open(\"jplus_sed{0:02d}.txt\".format(i+1), \"w\") as f:\n",
    "        f.write(\"# redshift = {0:5.3f}\\n\".format(z))\n",
    "        f.write(\"#\\n\")\n",
    "        f.write(\"# {0:>7s}{1:>13s}{2:>13s}\\n\".format(\"filter\", \"flux\", \"sigma\"))\n",
    "        for j, filt in enumerate(jplus_filters):\n",
    "            fname = jplus_list[j].rstrip(\".res\")\n",
    "            fname = fname[fname.rfind(\"/\")+1:]\n",
    "            jplus_wl, jplus_fl, jplus_sg = integrated_flux(sed, sg, filt)\n",
    "            f.write(\"  {0:>7s}{1:>13.4e}{2:>13.4e}\\n\".format(fname, jplus_fl, jplus_sg))\n",
    "    i += 1"
   ]
  }
 ],
 "metadata": {
  "kernelspec": {
   "display_name": "Python 2",
   "language": "python",
   "name": "python2"
  },
  "language_info": {
   "codemirror_mode": {
    "name": "ipython",
    "version": 2
   },
   "file_extension": ".py",
   "mimetype": "text/x-python",
   "name": "python",
   "nbconvert_exporter": "python",
   "pygments_lexer": "ipython2",
   "version": "2.7.11"
  }
 },
 "nbformat": 4,
 "nbformat_minor": 0
}
